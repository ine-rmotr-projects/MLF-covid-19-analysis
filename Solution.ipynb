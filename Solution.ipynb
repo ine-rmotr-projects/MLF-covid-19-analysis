{
 "cells": [
  {
   "cell_type": "markdown",
   "metadata": {},
   "source": [
    "<div style=\"position: relative;\">\n",
    "<img src=\"https://user-images.githubusercontent.com/7065401/98728503-5ab82f80-2378-11eb-9c79-adeb308fc647.png\"></img>\n",
    "\n",
    "<h1 style=\"color: white; position: absolute; top:30%; left:10%;\">\n",
    "    Machine Learning Fundamentals\n",
    "</h1>\n",
    "\n",
    "<h3 style=\"color: #ef7d22; font-weight: normal; position: absolute; top:43%; left:10%;\">\n",
    "    Santiago Basulto\n",
    "</h3>\n",
    "</div>"
   ]
  },
  {
   "cell_type": "markdown",
   "metadata": {},
   "source": [
    "<div style=\"width: 100%; background-color: #222; text-align: center\">\n",
    "<br><br>\n",
    "\n",
    "<h1 style=\"color: white; font-weight: bold;\">\n",
    "    Project\n",
    "</h1>\n",
    "    \n",
    "<h3 style=\"color: #ef7d22; font-weight: normal;\">\n",
    "    COVID-19 Analysis\n",
    "</h3>\n",
    "\n",
    "<br><br> \n",
    "</div>\n",
    "\n",
    "![orange-divider](https://user-images.githubusercontent.com/7065401/98619088-44ab6000-22e1-11eb-8f6d-5532e68ab274.png)"
   ]
  },
  {
   "cell_type": "markdown",
   "metadata": {},
   "source": [
    "<img src=\"img/covid.jpg\"\n",
    "    style=\"width:250px; float: right; margin: 0 40px 40px 40px;\"></img>\n",
    "\n",
    "Now we will put in practice what we just learn on previous lessons.\n",
    "\n",
    "Our final goal will be to visualize the pandemic COVID-19 and it's effects. \n",
    "\n",
    "Coronavirus (COVID-19) is an infectious disease caused by a newly discovered coronavirus.\n",
    "\n",
    "We will use [COVID-19 dataset](https://www.kaggle.com/imdevskp/corona-virus-report#covid_19_clean_complete.csv), which have 8 numeric features.\n",
    "\n",
    "* Lat: Latitude of the location\n",
    "* Long: Longitude of the location\n",
    "* Date: Date of cumulative report\n",
    "* Confirmed: Cumulative number of confirmed cases till this day\n",
    "* Deaths: Cumulative number of deaths till this day\n",
    "* Recovered:Cumulative number of recovered cases till this day\n"
   ]
  },
  {
   "cell_type": "markdown",
   "metadata": {},
   "source": [
    "### Hands on! \n"
   ]
  },
  {
   "cell_type": "code",
   "execution_count": null,
   "metadata": {},
   "outputs": [],
   "source": [
    "import numpy as np\n",
    "import matplotlib.pyplot as plt\n",
    "import seaborn as sns\n",
    "import pandas as pd \n",
    "%matplotlib inline "
   ]
  },
  {
   "cell_type": "markdown",
   "metadata": {},
   "source": [
    "![orange-divider](https://user-images.githubusercontent.com/7065401/98619088-44ab6000-22e1-11eb-8f6d-5532e68ab274.png)\n",
    "\n",
    "### Load the `covid_19_clean_complete.csv` dataset which is in the `data` folder, and store it into `df`."
   ]
  },
  {
   "cell_type": "code",
   "execution_count": null,
   "metadata": {
    "cell_type": "solution"
   },
   "outputs": [],
   "source": [
    "df = pd.read_csv(\"data/covid_19_clean_complete.csv\",\n",
    "                 parse_dates=['Date'])"
   ]
  },
  {
   "cell_type": "markdown",
   "metadata": {},
   "source": [
    "Show the columns name of the resulting `df`."
   ]
  },
  {
   "cell_type": "code",
   "execution_count": null,
   "metadata": {
    "cell_type": "solution"
   },
   "outputs": [],
   "source": [
    "df.columns"
   ]
  },
  {
   "cell_type": "markdown",
   "metadata": {},
   "source": [
    "![orange-divider](https://user-images.githubusercontent.com/7065401/98619088-44ab6000-22e1-11eb-8f6d-5532e68ab274.png)\n",
    "\n",
    "### Data exploration\n",
    "\n",
    "Let's first see some descriptive statistics of the data:"
   ]
  },
  {
   "cell_type": "code",
   "execution_count": null,
   "metadata": {
    "cell_type": "solution"
   },
   "outputs": [],
   "source": [
    "df.describe()"
   ]
  },
  {
   "cell_type": "markdown",
   "metadata": {},
   "source": [
    "What do you think? Do all the statistics make sense?"
   ]
  },
  {
   "cell_type": "markdown",
   "metadata": {
    "cell_type": "solution"
   },
   "source": [
    "> It is not make sense to calculate descriptive statistics for Lat and Long."
   ]
  },
  {
   "cell_type": "markdown",
   "metadata": {},
   "source": [
    "Now count the number of `NaN` values in the dataset:"
   ]
  },
  {
   "cell_type": "code",
   "execution_count": null,
   "metadata": {
    "cell_type": "solution"
   },
   "outputs": [],
   "source": [
    "df.isnull().sum()"
   ]
  },
  {
   "cell_type": "markdown",
   "metadata": {},
   "source": [
    "Calculate the number of active cases in a new column: `Active`."
   ]
  },
  {
   "cell_type": "code",
   "execution_count": null,
   "metadata": {
    "cell_type": "solution"
   },
   "outputs": [],
   "source": [
    "# Active Case = confirmed - deaths - recovered\n",
    "df['Active'] = df['Confirmed'] - df['Deaths'] - df['Recovered']"
   ]
  },
  {
   "cell_type": "markdown",
   "metadata": {},
   "source": [
    "![orange-divider](https://user-images.githubusercontent.com/7065401/98619088-44ab6000-22e1-11eb-8f6d-5532e68ab274.png)\n",
    "\n",
    "### Data visualization and relationships\n",
    "\n",
    "First we need to make some changes on the date format using `datetime` library."
   ]
  },
  {
   "cell_type": "code",
   "execution_count": null,
   "metadata": {},
   "outputs": [],
   "source": [
    "from datetime import datetime as dt\n",
    "\n",
    "df['Date'] = df['Date'].dt.normalize()\n",
    "df['Date'] = df['Date'].dt.strftime('%Y-%m-%d')"
   ]
  },
  {
   "cell_type": "code",
   "execution_count": null,
   "metadata": {},
   "outputs": [],
   "source": [
    "a = df.Date.value_counts().sort_index()\n",
    "\n",
    "print(f\"The first date is: {a.index[0]}\")\n",
    "print(f\"The last date is: {a.index[-1]}\")"
   ]
  },
  {
   "cell_type": "markdown",
   "metadata": {},
   "source": [
    "**Visualize the total number of confirmed cases versus time**\n",
    "\n",
    "We need to generate a new dataframe to calculate the number of total cases, and call this `total_cases`.\n",
    "\n",
    "> Note: you should use `groupby`.\n"
   ]
  },
  {
   "cell_type": "code",
   "execution_count": null,
   "metadata": {
    "cell_type": "solution"
   },
   "outputs": [],
   "source": [
    "total_cases = df.loc[:, ['Date', 'Confirmed']].groupby('Date').sum().reset_index()\n",
    "\n",
    "total_cases"
   ]
  },
  {
   "cell_type": "markdown",
   "metadata": {},
   "source": [
    "Now plot the time series of the total_cases. "
   ]
  },
  {
   "cell_type": "code",
   "execution_count": null,
   "metadata": {
    "cell_type": "solution"
   },
   "outputs": [],
   "source": [
    "plt.figure(figsize= (14,5))\n",
    "\n",
    "ax = sns.pointplot(x=total_cases['Date'],\n",
    "                   y=total_cases['Confirmed'],\n",
    "                   color='r')\n",
    "ax.set(xlabel='Dates', ylabel='Total cases')\n",
    "\n",
    "plt.xticks(rotation=90, fontsize=10)\n",
    "plt.yticks(fontsize=12)\n",
    "\n",
    "plt.xlabel('Dates', fontsize=14)\n",
    "plt.ylabel('Total cases', fontsize=14)\n",
    "plt.title('Worldwide Confirmed Cases Over Time', fontsize=20)"
   ]
  },
  {
   "cell_type": "markdown",
   "metadata": {},
   "source": [
    "**Another option**"
   ]
  },
  {
   "cell_type": "code",
   "execution_count": null,
   "metadata": {},
   "outputs": [],
   "source": [
    "with sns.axes_style('white'):\n",
    "    g = sns.relplot(x=\"Date\", y=\"Deaths\", kind=\"line\", data=df)\n",
    "    g.fig.autofmt_xdate()\n",
    "    g.set_xticklabels(step=10)\n",
    "    plt.title (\"Covid-19 Deaths, Year:2020\")"
   ]
  },
  {
   "cell_type": "markdown",
   "metadata": {},
   "source": [
    "![orange-divider](https://user-images.githubusercontent.com/7065401/98619088-44ab6000-22e1-11eb-8f6d-5532e68ab274.png)\n",
    "\n",
    "### Visualize the top 10 countries with higher cases\n",
    "\n",
    "First filter the maximum number of cases for each country in a `top` variable:"
   ]
  },
  {
   "cell_type": "code",
   "execution_count": null,
   "metadata": {
    "cell_type": "solution"
   },
   "outputs": [],
   "source": [
    "top = df.loc[df['Date'] == df['Date'].max()]"
   ]
  },
  {
   "cell_type": "markdown",
   "metadata": {},
   "source": [
    "Now use `groupby` to select the ten first counties with the highest number of cases in a `top_casualties` variable:"
   ]
  },
  {
   "cell_type": "code",
   "execution_count": null,
   "metadata": {
    "cell_type": "solution"
   },
   "outputs": [],
   "source": [
    "top_casualities = top.groupby('Country/Region')['Confirmed'].sum().sort_values(ascending=False).head(10).reset_index()\n",
    "\n",
    "top_casualities"
   ]
  },
  {
   "cell_type": "markdown",
   "metadata": {},
   "source": [
    "Plot Total cases of the top 20 countries using barplot:"
   ]
  },
  {
   "cell_type": "code",
   "execution_count": null,
   "metadata": {
    "cell_type": "solution"
   },
   "outputs": [],
   "source": [
    "sns.set(style=\"darkgrid\")\n",
    "plt.figure(figsize= (15,10))\n",
    "\n",
    "ax = sns.barplot(x=top_casualities['Confirmed'],\n",
    "                 y=top_casualities['Country/Region'])\n",
    "\n",
    "for i, (value, name) in enumerate(zip(top_casualities['Confirmed'], top_casualities['Country/Region'])):\n",
    "    ax.text(value, i-.05, f'{value:,.0f}', size=10, ha='left', va='center')\n",
    "ax.set(xlabel='Total cases', ylabel='Country/Region')\n",
    "\n",
    "plt.xticks(fontsize=15)\n",
    "plt.yticks(fontsize=15)\n",
    "plt.xlabel('Total cases', fontsize=30)\n",
    "plt.ylabel('Country', fontsize=30)\n",
    "plt.title('Top 10 countries having most confirmed cases', fontsize=20)"
   ]
  },
  {
   "cell_type": "markdown",
   "metadata": {},
   "source": [
    "![orange-divider](https://user-images.githubusercontent.com/7065401/98619088-44ab6000-22e1-11eb-8f6d-5532e68ab274.png)\n",
    "\n",
    "### USA analysis\n",
    "\n",
    "Keep just `US` data and interesting columns we'll use:"
   ]
  },
  {
   "cell_type": "code",
   "execution_count": null,
   "metadata": {
    "cell_type": "solution"
   },
   "outputs": [],
   "source": [
    "us = df.loc[df['Country/Region'] == 'US', ['Date', 'Recovered', 'Deaths', 'Confirmed', 'Active']]\n",
    "\n",
    "us.head()"
   ]
  },
  {
   "cell_type": "markdown",
   "metadata": {},
   "source": [
    "Also, group by `Date` and remove old rows:\n",
    "    "
   ]
  },
  {
   "cell_type": "code",
   "execution_count": null,
   "metadata": {
    "cell_type": "solution"
   },
   "outputs": [],
   "source": [
    "us = us.groupby('Date').sum().reset_index()\n",
    "us = us.iloc[33:]\n",
    "\n",
    "us.head()"
   ]
  },
  {
   "cell_type": "markdown",
   "metadata": {},
   "source": [
    "Plot US's active cases over time using seaborn's `pointplot()`:\n"
   ]
  },
  {
   "cell_type": "code",
   "execution_count": null,
   "metadata": {
    "cell_type": "solution"
   },
   "outputs": [],
   "source": [
    "plt.figure(figsize=(15,5))\n",
    "sns.set_color_codes(\"pastel\")\n",
    "sns.pointplot(us.index, us.Active, color='b')\n",
    "plt.xlabel('No. of Days', fontsize=15)\n",
    "plt.ylabel('Total cases', fontsize=15)\n",
    "plt.title(\"US's Active Cases Over Time\", fontsize=25)\n",
    "\n",
    "\n",
    "## Another solution\n",
    "#plt.figure(figsize=(15,5))\n",
    "\n",
    "#sns.pointplot(us.Date, us.Active, color='r')\n",
    "#plt.xlabel('No. of Days', fontsize=15)\n",
    "#plt.ylabel('Total cases', fontsize=15)\n",
    "#plt.xticks(rotation=90 ,fontsize=10)\n",
    "#plt.title(\"US's Active Cases Over Time\" , fontsize=25)"
   ]
  },
  {
   "cell_type": "markdown",
   "metadata": {},
   "source": [
    "![orange-divider](https://user-images.githubusercontent.com/7065401/98619088-44ab6000-22e1-11eb-8f6d-5532e68ab274.png)\n",
    "\n",
    "### Optional : Stacked Bar Chart\n",
    "\n",
    "A stacked bar graph (or stacked bar chart) is a chart that uses bars to show comparisons between categories of data, but with ability to break down and compare parts of a whole. "
   ]
  },
  {
   "cell_type": "code",
   "execution_count": null,
   "metadata": {},
   "outputs": [],
   "source": [
    "sns.set(style=\"whitegrid\")\n",
    "\n",
    "# Initialize the matplotlib figure\n",
    "f, ax = plt.subplots(figsize=(15, 5))\n",
    "\n",
    "# Plot the total cases\n",
    "sns.set_color_codes(\"pastel\")\n",
    "sns.barplot(us.index, us.Active + us.Recovered + us.Deaths,\n",
    "            label=\"Active\", color=\"b\")\n",
    "\n",
    "# Plot the recovered\n",
    "sns.set_color_codes(\"muted\")\n",
    "sns.barplot(us.index, us.Recovered + us.Deaths, \n",
    "            label=\"Recovered\", color=\"g\")\n",
    "\n",
    "# Plot the Deaths\n",
    "sns.set_color_codes(\"dark\")\n",
    "sns.barplot(us.index ,us.Deaths, \n",
    "            label=\"Deaths\", color=\"r\")\n",
    "plt.xlabel('No. of Days', fontsize=14)\n",
    "plt.ylabel('No. of cases', fontsize=15)\n",
    "\n",
    "# Add a legend and informative axis label\n",
    "ax.legend(ncol=2, loc=\"upper left\", frameon=True)\n",
    "sns.despine(top=True)"
   ]
  },
  {
   "cell_type": "markdown",
   "metadata": {},
   "source": [
    "![orange-divider](https://user-images.githubusercontent.com/7065401/98619088-44ab6000-22e1-11eb-8f6d-5532e68ab274.png)\n",
    "\n",
    "### Optional Lecture\n",
    "\n",
    "<p style='text-align:center'><a href=\"https://www.weforum.org/agenda/2020/03/covid-19-crisis-artificial-intelligence-creativity/\">AI can help with the COVID-19 crisis - but the right human input is key</a></p>\n"
   ]
  },
  {
   "cell_type": "markdown",
   "metadata": {},
   "source": [
    "<div style=\"position: relative;\">\n",
    "<img src=\"https://user-images.githubusercontent.com/7065401/98729912-57be3e80-237a-11eb-80e4-233ac344b391.png\"></img>\n",
    "</div>"
   ]
  }
 ],
 "metadata": {
  "kernelspec": {
   "display_name": "Python 3",
   "language": "python",
   "name": "python3"
  },
  "language_info": {
   "codemirror_mode": {
    "name": "ipython",
    "version": 3
   },
   "file_extension": ".py",
   "mimetype": "text/x-python",
   "name": "python",
   "nbconvert_exporter": "python",
   "pygments_lexer": "ipython3",
   "version": "3.8.6"
  }
 },
 "nbformat": 4,
 "nbformat_minor": 4
}
